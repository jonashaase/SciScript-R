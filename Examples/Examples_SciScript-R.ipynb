{
 "cells": [
  {
   "cell_type": "code",
   "execution_count": null,
   "metadata": {
    "scrolled": true
   },
   "outputs": [],
   "source": [
    "library(SciServer)\n",
    "library(httr)\n",
    "library(jsonlite)\n",
    "library(utils)\n",
    "\n",
    "# Define login Name and password before running these examples\n",
    "Authentication_loginName = '***';\n",
    "Authentication_loginPassword = '***'\n",
    "\n",
    "Authentication_login_sharedWithName = '***'\n",
    "Authentication_login_sharedWithPassword = '***'"
   ]
  },
  {
   "cell_type": "markdown",
   "metadata": {},
   "source": [
    "# Authentication section"
   ]
  },
  {
   "cell_type": "code",
   "execution_count": null,
   "metadata": {},
   "outputs": [],
   "source": [
    "#?Authentication.login"
   ]
  },
  {
   "cell_type": "code",
   "execution_count": null,
   "metadata": {},
   "outputs": [],
   "source": [
    "#logging in and getting current token from different ways\n",
    "\n",
    "token1 = Authentication.login(Authentication_loginName, Authentication_loginPassword);\n",
    "token2 = Authentication.getToken()\n",
    "token4 = Authentication.token\n",
    "print(paste(\"token1=\", token1))\n",
    "print(paste(\"token2=\", token2))\n",
    "print(paste(\"token4=\", token4))"
   ]
  },
  {
   "cell_type": "code",
   "execution_count": null,
   "metadata": {},
   "outputs": [],
   "source": [
    "#getting curent user info\n",
    "\n",
    "user = Authentication.getKeystoneUserWithToken(token1)\n",
    "print(paste(\"userName=\", user$userName))\n",
    "print(paste(\"id=\", user$id))"
   ]
  },
  {
   "cell_type": "code",
   "execution_count": null,
   "metadata": {},
   "outputs": [],
   "source": [
    "#reseting the current token to another value:\n",
    "\n",
    "Authentication.setToken(\"myToken1\")\n",
    "token5 = Authentication.getToken()\n",
    "print(paste(\"token5=\", token5))"
   ]
  },
  {
   "cell_type": "code",
   "execution_count": null,
   "metadata": {},
   "outputs": [],
   "source": [
    "#logging-in again\n",
    "\n",
    "token1 = Authentication.login(Authentication_loginName, Authentication_loginPassword);\n",
    "print(token1)"
   ]
  },
  {
   "cell_type": "markdown",
   "metadata": {},
   "source": [
    "# LoginPortal section:"
   ]
  },
  {
   "cell_type": "code",
   "execution_count": null,
   "metadata": {},
   "outputs": [],
   "source": [
    "#?LoginPortal.login"
   ]
  },
  {
   "cell_type": "code",
   "execution_count": null,
   "metadata": {},
   "outputs": [],
   "source": [
    "#logging in and getting current token from different ways\n",
    "\n",
    "token1 = LoginPortal.login(Authentication_loginName, Authentication_loginPassword);\n",
    "token2 = LoginPortal.getToken()\n",
    "print(paste(\"token1=\", token1))\n",
    "print(paste(\"token2=\", token2))"
   ]
  },
  {
   "cell_type": "code",
   "execution_count": null,
   "metadata": {},
   "outputs": [],
   "source": [
    "#getting curent user info\n",
    "\n",
    "user = LoginPortal.getKeystoneUserWithToken(token1)\n",
    "print(paste(\"userName=\", user$user))\n",
    "print(paste(\"id=\", user$id))\n",
    "user"
   ]
  },
  {
   "cell_type": "code",
   "execution_count": null,
   "metadata": {},
   "outputs": [],
   "source": [
    "#reseting the current token to another value:\n",
    "\n",
    "LoginPortal.setToken(\"myToken2\")\n",
    "token6 = LoginPortal.getToken()\n",
    "print(paste(\"token6=\", token6))"
   ]
  },
  {
   "cell_type": "code",
   "execution_count": null,
   "metadata": {},
   "outputs": [],
   "source": [
    "#logging-in again\n",
    "\n",
    "token1 = LoginPortal.login(Authentication_loginName, Authentication_loginPassword);\n",
    "print(token1)"
   ]
  },
  {
   "cell_type": "markdown",
   "metadata": {},
   "source": [
    "# CasJobs section:"
   ]
  },
  {
   "cell_type": "code",
   "execution_count": null,
   "metadata": {},
   "outputs": [],
   "source": [
    "#?CasJobs.executeQuery"
   ]
  },
  {
   "cell_type": "code",
   "execution_count": null,
   "metadata": {},
   "outputs": [],
   "source": [
    "#Defining databse context and query, and other variables\n",
    "\n",
    "CasJobs_TestDatabase = \"MyDB\"\n",
    "CasJobs_TestQuery = \"select 4 as Column1, 5 as Column2 \"\n",
    "CasJobs_TestTableName1 = \"MyNewtable1\"\n",
    "CasJobs_TestTableName2 = \"MyNewtable2\"\n",
    "CasJobs_TestTableCSV = \"Column1,Column2\\n4,5\\n\"\n",
    "CasJobs_TestFitsFile = \"SciScriptTestFile.fits\"\n",
    "CasJobs_TestCSVFile = \"SciScriptTestFile.csv\""
   ]
  },
  {
   "cell_type": "code",
   "execution_count": null,
   "metadata": {},
   "outputs": [],
   "source": [
    "#get user schema info\n",
    "\n",
    "casJobsId = CasJobs.getSchemaName()\n",
    "print(casJobsId)"
   ]
  },
  {
   "cell_type": "code",
   "execution_count": null,
   "metadata": {},
   "outputs": [],
   "source": [
    "#get info about tables inside MyDB database context:\n",
    "\n",
    "tables = CasJobs.getTables(context=\"MyDB\")\n",
    "print(tables)"
   ]
  },
  {
   "cell_type": "code",
   "execution_count": null,
   "metadata": {},
   "outputs": [],
   "source": [
    "#execute a quick SQL query:\n",
    "\n",
    "df = CasJobs.executeQuery(sql=CasJobs_TestQuery, context=CasJobs_TestDatabase, format=\"dataframe\")\n",
    "df"
   ]
  },
  {
   "cell_type": "code",
   "execution_count": null,
   "metadata": {},
   "outputs": [],
   "source": [
    "#submit a job, which inserts the query results into a table in the MyDB database context. \n",
    "#Wait until the job is done and get its status.\n",
    "\n",
    "jobId = CasJobs.submitJob(sql=paste(CasJobs_TestQuery, \" into MyDB.\", CasJobs_TestTableName1, sep=\"\"), context=\"MyDB\")\n",
    "jobDescription = CasJobs.waitForJob(jobId=jobId, verbose=FALSE)\n",
    "print(jobId)\n",
    "print(jobDescription)"
   ]
  },
  {
   "cell_type": "code",
   "execution_count": null,
   "metadata": {},
   "outputs": [],
   "source": [
    "# drop or delete table in MyDB database context\n",
    "\n",
    "df = CasJobs.executeQuery(sql=paste(\"DROP TABLE \", CasJobs_TestTableName1, sep=\"\"), context=\"MyDB\", format=\"dataframe\")\n",
    "print(df)"
   ]
  },
  {
   "cell_type": "code",
   "execution_count": null,
   "metadata": {},
   "outputs": [],
   "source": [
    "#get job status\n",
    "\n",
    "jobId = CasJobs.submitJob(sql=CasJobs_TestQuery, context=CasJobs_TestDatabase)\n",
    "jobDescription = CasJobs.getJobStatus(jobId)\n",
    "print(jobId)\n",
    "print(jobDescription)"
   ]
  },
  {
   "cell_type": "code",
   "execution_count": null,
   "metadata": {},
   "outputs": [],
   "source": [
    "#cancel a job\n",
    "\n",
    "jobId = CasJobs.submitJob(sql=CasJobs_TestQuery, context=CasJobs_TestDatabase)\n",
    "jobDescription = CasJobs.cancelJob(jobId=jobId)\n",
    "print(jobId)\n",
    "print(jobDescription)"
   ]
  },
  {
   "cell_type": "code",
   "execution_count": null,
   "metadata": {},
   "outputs": [],
   "source": [
    "#execute a query and write a local Fits file containing the query results:\n",
    "\n",
    "result = CasJobs.writeFitsFileFromQuery(fileName=CasJobs_TestFitsFile, queryString=CasJobs_TestQuery, context=\"MyDB\")\n",
    "print(result)"
   ]
  },
  {
   "cell_type": "code",
   "execution_count": null,
   "metadata": {},
   "outputs": [],
   "source": [
    "#delete local FITS file just created:\n",
    "\n",
    "file.remove(CasJobs_TestFitsFile)"
   ]
  },
  {
   "cell_type": "code",
   "execution_count": null,
   "metadata": {},
   "outputs": [],
   "source": [
    "#uploads a dataframe into a Database table\n",
    "\n",
    "df = CasJobs.executeQuery(sql=CasJobs_TestQuery, context=CasJobs_TestDatabase, format=\"dataframe\")\n",
    "response = CasJobs.uploadDataFrameToTable(df, tableName=CasJobs_TestTableName2, context=\"MyDB\")\n",
    "table = CasJobs.executeQuery(sql=paste(\"select * from \", CasJobs_TestTableName2, sep=\"\"), context=\"MyDB\", format=\"dataframe\")\n",
    "print(response)\n",
    "print(table)"
   ]
  },
  {
   "cell_type": "code",
   "execution_count": null,
   "metadata": {},
   "outputs": [],
   "source": [
    "# drop or delete table just created:\n",
    "\n",
    "result2 = CasJobs.executeQuery(sql=paste(\"DROP TABLE \", CasJobs_TestTableName2, sep=\"\"), context=\"MyDB\", format=\"dataframe\")\n",
    "print(result2)"
   ]
  },
  {
   "cell_type": "code",
   "execution_count": null,
   "metadata": {},
   "outputs": [],
   "source": [
    "#upload csv data string into a database table:\n",
    "\n",
    "result3 = CasJobs.uploadCSVDataToTable(csv=CasJobs_TestTableCSV, tableName=CasJobs_TestTableName2, context=\"MyDB\")\n",
    "df2 = CasJobs.executeQuery(sql=paste(\"select * from \", CasJobs_TestTableName2, sep=\"\"), context=\"MyDB\", format=\"dataframe\")\n",
    "print(result3)\n",
    "print(df2)"
   ]
  },
  {
   "cell_type": "code",
   "execution_count": null,
   "metadata": {},
   "outputs": [],
   "source": [
    "# drop or delete table just created:\n",
    "\n",
    "result4 = CasJobs.executeQuery(sql=paste(\"DROP TABLE \", CasJobs_TestTableName2, sep=\"\"), context=\"MyDB\", format=\"dataframe\")\n",
    "print(result4)"
   ]
  },
  {
   "cell_type": "markdown",
   "metadata": {},
   "source": [
    "#  SkyServer section:"
   ]
  },
  {
   "cell_type": "code",
   "execution_count": null,
   "metadata": {},
   "outputs": [],
   "source": [
    "#SkyServer.sqlSearch"
   ]
  },
  {
   "cell_type": "code",
   "execution_count": null,
   "metadata": {},
   "outputs": [],
   "source": [
    "#defining sql query and SDSS data relelease:\n",
    "\n",
    "SkyServer_TestQuery = \"select top 1 specobjid, ra, dec from specobj order by specobjid\"\n",
    "SkyServer_DataRelease = \"DR13\""
   ]
  },
  {
   "cell_type": "code",
   "execution_count": null,
   "metadata": {},
   "outputs": [],
   "source": [
    "#Exectute sql query\n",
    "\n",
    "df = SkyServer.sqlSearch(sql=SkyServer_TestQuery, dataRelease=SkyServer_DataRelease)\n",
    "print(df)"
   ]
  },
  {
   "cell_type": "code",
   "execution_count": null,
   "metadata": {},
   "outputs": [],
   "source": [
    "#get an image cutout\n",
    "\n",
    "img = SkyServer.getJpegImgCutout(ra=197.614455642896, dec=18.438168853724, width=512, height=512, scale=0.4, \n",
    "                                 dataRelease=SkyServer_DataRelease,opt=\"OG\",\n",
    "                                 query=\"SELECT TOP 100 p.objID, p.ra, p.dec, p.r FROM fGetObjFromRectEq(197.6,18.4,197.7,18.5) n, PhotoPrimary p WHERE n.objID=p.objID\")\n",
    "plot(0:1, 0:1, type = \"n\")\n",
    "rasterImage(img, 0, 0, 1, 1)"
   ]
  },
  {
   "cell_type": "code",
   "execution_count": null,
   "metadata": {},
   "outputs": [],
   "source": [
    "# do a radial search of objects:\n",
    "\n",
    "df = SkyServer.radialSearch(ra=258.25, dec=64.05, radius=0.1, dataRelease=SkyServer_DataRelease)\n",
    "print(df)"
   ]
  },
  {
   "cell_type": "code",
   "execution_count": null,
   "metadata": {},
   "outputs": [],
   "source": [
    "#do rectangular search of objects:\n",
    "\n",
    "df = SkyServer.rectangularSearch(min_ra=258.3, max_ra=258.31, min_dec=64,max_dec=64.01, dataRelease=SkyServer_DataRelease)\n",
    "print(df)"
   ]
  },
  {
   "cell_type": "code",
   "execution_count": null,
   "metadata": {},
   "outputs": [],
   "source": [
    "#do an object search based on RA,Dec coordinates:\n",
    "\n",
    "object = SkyServer.objectSearch(ra=258.25, dec=64.05, dataRelease=SkyServer_DataRelease)\n",
    "print(object)"
   ]
  },
  {
   "cell_type": "markdown",
   "metadata": {},
   "source": [
    "# SciDrive section:"
   ]
  },
  {
   "cell_type": "code",
   "execution_count": null,
   "metadata": {},
   "outputs": [],
   "source": [
    "#?SciDrive.publicUrl"
   ]
  },
  {
   "cell_type": "code",
   "execution_count": null,
   "metadata": {},
   "outputs": [],
   "source": [
    "#define name of directory to be created in SciDrive:\n",
    "SciDrive_Directory = \"SciScriptR\"\n",
    "#define name, path and content of a file to be first created and then uploaded into SciDrive:\n",
    "SciDrive_FileName = \"TestFile.csv\"\n",
    "SciDrive_FilePath = \"./TestFile.csv\"\n",
    "SciDrive_FileContent = \"Column1,Column2\\n4.5,5.5\\n\""
   ]
  },
  {
   "cell_type": "code",
   "execution_count": null,
   "metadata": {},
   "outputs": [],
   "source": [
    "#create a folder or container in SciDrive\n",
    "\n",
    "responseCreate = SciDrive.createContainer(SciDrive_Directory)\n",
    "print(responseCreate)"
   ]
  },
  {
   "cell_type": "code",
   "execution_count": null,
   "metadata": {},
   "outputs": [],
   "source": [
    "#list content and metadata of directory in SciDrive\n",
    "\n",
    "dirList = SciDrive.directoryList(SciDrive_Directory)\n",
    "print(dirList)"
   ]
  },
  {
   "cell_type": "code",
   "execution_count": null,
   "metadata": {},
   "outputs": [],
   "source": [
    "#get the public url to access the directory content in SciDrive\n",
    "\n",
    "url = SciDrive.publicUrl(SciDrive_Directory)\n",
    "print(url)"
   ]
  },
  {
   "cell_type": "code",
   "execution_count": null,
   "metadata": {},
   "outputs": [],
   "source": [
    "#Delete folder or container in SciDrive:\n",
    "\n",
    "responseDelete = SciDrive.delete(SciDrive_Directory)\n",
    "print(responseDelete)"
   ]
  },
  {
   "cell_type": "code",
   "execution_count": null,
   "metadata": {},
   "outputs": [],
   "source": [
    "#create a local file:\n",
    "\n",
    "file = file(SciDrive_FileName)\n",
    "writeLines(SciDrive_FileContent, file)\n",
    "close(file)"
   ]
  },
  {
   "cell_type": "code",
   "execution_count": null,
   "metadata": {},
   "outputs": [],
   "source": [
    "#uploading a file to SciDrive:\n",
    "\n",
    "responseUpload = SciDrive.upload(path=paste(SciDrive_Directory, \"/\", SciDrive_FileName, sep=\"\"), localFilePath=SciDrive_FilePath)\n",
    "print(responseUpload)"
   ]
  },
  {
   "cell_type": "code",
   "execution_count": null,
   "metadata": {},
   "outputs": [],
   "source": [
    "#download file:\n",
    "\n",
    "fileContent = SciDrive.download(paste(SciDrive_Directory, \"/\", SciDrive_FileName, sep=\"\"), format=\"text\")\n",
    "print(fileContent)"
   ]
  },
  {
   "cell_type": "code",
   "execution_count": null,
   "metadata": {},
   "outputs": [],
   "source": [
    "#upload string data:\n",
    "\n",
    "responseUpload = SciDrive.upload(path=paste(SciDrive_Directory, \"/\", SciDrive_FileName, sep=\"\"), data=SciDrive_FileContent)\n",
    "fileContent =  SciDrive.download(path=paste(SciDrive_Directory, \"/\", SciDrive_FileName, sep=\"\"), format=\"text\")\n",
    "print(fileContent)"
   ]
  },
  {
   "cell_type": "code",
   "execution_count": null,
   "metadata": {},
   "outputs": [],
   "source": [
    "#delete folder in SciDrive:\n",
    "\n",
    "responseDelete = SciDrive.delete(SciDrive_Directory)\n",
    "print(responseDelete)"
   ]
  },
  {
   "cell_type": "code",
   "execution_count": null,
   "metadata": {},
   "outputs": [],
   "source": [
    "#delete local file:\n",
    "\n",
    "file.remove(SciDrive_FilePath)"
   ]
  },
  {
   "cell_type": "markdown",
   "metadata": {},
   "source": [
    "# SkyQuery section:"
   ]
  },
  {
   "cell_type": "code",
   "execution_count": null,
   "metadata": {},
   "outputs": [],
   "source": [
    "#?SkyQuery.submitJob"
   ]
  },
  {
   "cell_type": "code",
   "execution_count": null,
   "metadata": {},
   "outputs": [],
   "source": [
    "#list all databses or datasets available\n",
    "\n",
    "datasets = SkyQuery.listAllDatasets()\n",
    "print(datasets)"
   ]
  },
  {
   "cell_type": "code",
   "execution_count": null,
   "metadata": {},
   "outputs": [],
   "source": [
    "#get info about the user's personal database or dataset\n",
    "\n",
    "info = SkyQuery.getDatasetInfo(\"MyDB\")\n",
    "print(info)"
   ]
  },
  {
   "cell_type": "code",
   "execution_count": null,
   "metadata": {},
   "outputs": [],
   "source": [
    "#list tables inside dataset\n",
    "\n",
    "tables = SkyQuery.listDatasetTables(\"MyDB\")\n",
    "print(tables)"
   ]
  },
  {
   "cell_type": "code",
   "execution_count": null,
   "metadata": {},
   "outputs": [],
   "source": [
    "#list available job queues\n",
    "\n",
    "queueList = SkyQuery.listQueues()\n",
    "print(queueList)"
   ]
  },
  {
   "cell_type": "code",
   "execution_count": null,
   "metadata": {},
   "outputs": [],
   "source": [
    "#list available job queues and related info\n",
    "\n",
    "quick = SkyQuery.getQueueInfo('quick')\n",
    "long= SkyQuery.getQueueInfo('long')\n",
    "print(quick)\n",
    "print(long)"
   ]
  },
  {
   "cell_type": "code",
   "execution_count": null,
   "metadata": {},
   "outputs": [],
   "source": [
    "#Define query\n",
    "\n",
    "SkyQuery_Query = \"select 4.5 as Column1, 5.5 as Column2\""
   ]
  },
  {
   "cell_type": "code",
   "execution_count": null,
   "metadata": {},
   "outputs": [],
   "source": [
    "#submit a query as a job\n",
    "\n",
    "jobId = SkyQuery.submitJob(query=SkyQuery_Query, queue=\"quick\")\n",
    "print(jobId)"
   ]
  },
  {
   "cell_type": "code",
   "execution_count": null,
   "metadata": {},
   "outputs": [],
   "source": [
    "#get status of a submitted job\n",
    "\n",
    "jobId = SkyQuery.submitJob(query=SkyQuery_Query, queue=\"quick\")\n",
    "jobDescription = SkyQuery.getJobStatus(jobId=jobId)\n",
    "print(jobDescription)"
   ]
  },
  {
   "cell_type": "code",
   "execution_count": null,
   "metadata": {},
   "outputs": [],
   "source": [
    "# wait for a job to be finished and then get the status\n",
    "\n",
    "jobId = SkyQuery.submitJob(query=SkyQuery_Query, queue=\"quick\")\n",
    "jobDescription = SkyQuery.waitForJob(jobId=jobId, verbose=TRUE)\n",
    "print(\"jobDescription=\")\n",
    "print(jobDescription)"
   ]
  },
  {
   "cell_type": "code",
   "execution_count": null,
   "metadata": {},
   "outputs": [],
   "source": [
    "# cancel a job that is running, and then get its status\n",
    "\n",
    "jobId = SkyQuery.submitJob(query=SkyQuery_Query, queue=\"long\")\n",
    "isCanceled = SkyQuery.cancelJob(jobId)\n",
    "print(isCanceled)\n",
    "print(\"job status:\")\n",
    "print(SkyQuery.getJobStatus(jobId=jobId))"
   ]
  },
  {
   "cell_type": "code",
   "execution_count": null,
   "metadata": {},
   "outputs": [],
   "source": [
    "# get list of jobs\n",
    "\n",
    "quickJobsList = SkyQuery.listJobs('quick')\n",
    "longJobsList = SkyQuery.listJobs('long')\n",
    "print(quickJobsList)\n",
    "print(longJobsList)"
   ]
  },
  {
   "cell_type": "code",
   "execution_count": null,
   "metadata": {},
   "outputs": [],
   "source": [
    "#define csv table to be uploaded to into MyDB in SkyQuery\n",
    "\n",
    "SkyQuery_TestTableName = \"TestTable_SciScript_R\"\n",
    "SkyQuery_TestTableCSV = \"Column1,Column2\\n4.5,5.5\\n\""
   ]
  },
  {
   "cell_type": "code",
   "execution_count": null,
   "metadata": {},
   "outputs": [],
   "source": [
    "#uploading the csv table:\n",
    "\n",
    "result = SkyQuery.uploadTable(uploadData=SkyQuery_TestTableCSV, tableName=SkyQuery_TestTableName, datasetName=\"MyDB\", format=\"csv\")\n",
    "print(result)"
   ]
  },
  {
   "cell_type": "code",
   "execution_count": null,
   "metadata": {},
   "outputs": [],
   "source": [
    "#downloading table:\n",
    "\n",
    "table = SkyQuery.getTable(tableName=SkyQuery_TestTableName, datasetName=\"MyDB\", top=10)\n",
    "print(table)"
   ]
  },
  {
   "cell_type": "code",
   "execution_count": null,
   "metadata": {},
   "outputs": [],
   "source": [
    "#list tables inside dataset\n",
    "\n",
    "tables = SkyQuery.listDatasetTables(\"MyDB\")\n",
    "print(tables)"
   ]
  },
  {
   "cell_type": "code",
   "execution_count": null,
   "metadata": {},
   "outputs": [],
   "source": [
    "#get dataset table info:\n",
    "\n",
    "info = SkyQuery.getTableInfo(tableName=paste(\"webuser.\",SkyQuery_TestTableName, sep=\"\"), datasetName=\"MyDB\")\n",
    "print(info)"
   ]
  },
  {
   "cell_type": "code",
   "execution_count": null,
   "metadata": {},
   "outputs": [],
   "source": [
    "#get dataset table columns info\n",
    "\n",
    "columns = SkyQuery.listTableColumns(tableName=paste(\"webuser.\", SkyQuery_TestTableName, sep=\"\"), datasetName=\"MyDB\")\n",
    "print(columns)"
   ]
  },
  {
   "cell_type": "code",
   "execution_count": null,
   "metadata": {},
   "outputs": [],
   "source": [
    "#drop (or delete) table from dataset.\n",
    "\n",
    "result = SkyQuery.dropTable(tableName=SkyQuery_TestTableName, datasetName=\"MyDB\");\n",
    "print(result)"
   ]
  },
  {
   "cell_type": "markdown",
   "metadata": {},
   "source": [
    "# Files section:"
   ]
  },
  {
   "cell_type": "code",
   "execution_count": null,
   "metadata": {},
   "outputs": [],
   "source": [
    "# defining the FileService name\n",
    "\n",
    "Files_FileServiceName = \"FileServiceJHU\"\n",
    "Files_RootVolumeName1 = \"Storage\"\n",
    "Files_UserVolumeName1 = \"UserVolume5\"\n",
    "Files_RootVolumeName2 = \"Storage\"\n",
    "Files_UserVolumeName2 = \"UserVolume9\"\n",
    "Files_NewDirectoryName1 = \"myNewDirectory5\"\n",
    "Files_NewDirectoryName2 = \"myNewDirectory9\"\n",
    "Files_LocalFileName = \"MyNewFile.txt\"\n",
    "Files_LocalFileContent = \"#ID,Column1,Column2\\n1,4.5,5.5\""
   ]
  },
  {
   "cell_type": "code",
   "execution_count": null,
   "metadata": {},
   "outputs": [],
   "source": [
    "token = Authentication.login(Authentication_loginName, Authentication_loginPassword);"
   ]
  },
  {
   "cell_type": "code",
   "execution_count": null,
   "metadata": {},
   "outputs": [],
   "source": [
    "# get available FileServices\n",
    "\n",
    "fileServices = Files.getFileServices();\n",
    "fileServices"
   ]
  },
  {
   "cell_type": "code",
   "execution_count": null,
   "metadata": {},
   "outputs": [],
   "source": [
    "# get names of file services available to the user.\n",
    "\n",
    "fileServiceNames = Files.getFileServicesNames();\n",
    "fileServiceNames"
   ]
  },
  {
   "cell_type": "code",
   "execution_count": null,
   "metadata": {},
   "outputs": [],
   "source": [
    "# get FileService from Name\n",
    "\n",
    "fileService = Files.getFileServiceFromName(Files_FileServiceName);\n",
    "fileService"
   ]
  },
  {
   "cell_type": "code",
   "execution_count": null,
   "metadata": {},
   "outputs": [],
   "source": [
    "# get the API endpoint URL of a FileService\n",
    "\n",
    "fileServiceAPIUrl = Files.__getFileServiceAPIUrl(fileService);\n",
    "fileServiceAPIUrl"
   ]
  },
  {
   "cell_type": "code",
   "execution_count": null,
   "metadata": {},
   "outputs": [],
   "source": [
    "# get information about root volumes \n",
    "\n",
    "rootVolumes = Files.getRootVolumesInfo(fileService)\n",
    "rootVolumes"
   ]
  },
  {
   "cell_type": "code",
   "execution_count": null,
   "metadata": {},
   "outputs": [],
   "source": [
    "# get information about data volumes \n",
    "\n",
    "dataVolumes = Files.getDataVolumesInfo(fileService)\n",
    "dataVolumes"
   ]
  },
  {
   "cell_type": "code",
   "execution_count": null,
   "metadata": {},
   "outputs": [],
   "source": [
    "# get information about user volumes\n",
    "\n",
    "userVolumes = Files.getUserVolumesInfo(fileService)\n",
    "userVolumes"
   ]
  },
  {
   "cell_type": "code",
   "execution_count": null,
   "metadata": {},
   "outputs": [],
   "source": [
    "Files.createUserVolume(fileService,paste(Files_RootVolumeName1,Authentication_loginName,Files_UserVolumeName1,sep=\"/\"))\n",
    "Files.createUserVolume(fileService,paste(Files_RootVolumeName1,Authentication_loginName,Files_UserVolumeName2,sep=\"/\"))"
   ]
  },
  {
   "cell_type": "code",
   "execution_count": null,
   "metadata": {},
   "outputs": [],
   "source": [
    "# create a directory in the user volumes\n",
    "\n",
    "Files.createDir(fileService,paste(Files_RootVolumeName1,Authentication_loginName,Files_UserVolumeName1,Files_NewDirectoryName1,sep=\"/\"));\n",
    "Files.createDir(fileService,paste(Files_RootVolumeName2,Authentication_loginName,Files_UserVolumeName2,Files_NewDirectoryName2,sep=\"/\"));"
   ]
  },
  {
   "cell_type": "code",
   "execution_count": null,
   "metadata": {},
   "outputs": [],
   "source": [
    "# upload a text string into a file in the remote directory\n",
    "\n",
    "Files.upload(fileService, \n",
    "    paste(Files_RootVolumeName1,Authentication_loginName,Files_UserVolumeName1,Files_NewDirectoryName1,Files_LocalFileName,sep=\"/\"), \n",
    "             data=Files_LocalFileContent);"
   ]
  },
  {
   "cell_type": "code",
   "execution_count": null,
   "metadata": {},
   "outputs": [],
   "source": [
    "# List content of remote directory\n",
    "\n",
    "dirList = Files.dirList(fileService, \n",
    "    paste(Files_RootVolumeName1,Authentication_loginName,Files_UserVolumeName1,Files_NewDirectoryName1,sep=\"/\"),\n",
    "    level=4)\n",
    "dirList"
   ]
  },
  {
   "cell_type": "code",
   "execution_count": null,
   "metadata": {},
   "outputs": [],
   "source": [
    "# download a remote text file into a local directory\n",
    "\n",
    "Files.download(fileService, \n",
    "    paste(Files_RootVolumeName1,Authentication_loginName,Files_UserVolumeName1,Files_NewDirectoryName1,Files_LocalFileName,sep=\"/\") \n",
    "    ,localFilePath=Files_LocalFileName);"
   ]
  },
  {
   "cell_type": "code",
   "execution_count": null,
   "metadata": {},
   "outputs": [],
   "source": [
    "# Delete remote file\n",
    "\n",
    "Files.delete(fileService, \n",
    "paste(Files_RootVolumeName1,Authentication_loginName,Files_UserVolumeName1,Files_NewDirectoryName1,Files_LocalFileName,sep=\"/\"))"
   ]
  },
  {
   "cell_type": "code",
   "execution_count": null,
   "metadata": {},
   "outputs": [],
   "source": [
    "# upload a local file into a remote directory\n",
    "\n",
    "Files.upload(fileService, \n",
    "paste(Files_RootVolumeName1,Authentication_loginName,Files_UserVolumeName1,Files_NewDirectoryName1,Files_LocalFileName,sep=\"/\")\n",
    ", localFilePath=Files_LocalFileName, quiet=FALSE);"
   ]
  },
  {
   "cell_type": "code",
   "execution_count": null,
   "metadata": {},
   "outputs": [],
   "source": [
    "# copy remote file into remote directory\n",
    "\n",
    "Files.move(fileService,\n",
    "paste(Files_RootVolumeName1,Authentication_loginName,Files_UserVolumeName1,Files_NewDirectoryName1,Files_LocalFileName,sep=\"/\"), \n",
    "           fileService, \n",
    "paste(Files_RootVolumeName2,Authentication_loginName,Files_UserVolumeName2,Files_NewDirectoryName2,Files_LocalFileName,sep=\"/\"));"
   ]
  },
  {
   "cell_type": "code",
   "execution_count": null,
   "metadata": {},
   "outputs": [],
   "source": [
    "# sharing user volume with another user\n",
    "\n",
    "Files.shareUserVolume(fileService, \n",
    "paste(Files_RootVolumeName2,Authentication_loginName,Files_UserVolumeName2,sep=\"/\"), \n",
    "    sharedWith=Authentication_login_sharedWithName, sharee_type=\"USER\",allowedActions=list(\"read\"))"
   ]
  },
  {
   "cell_type": "code",
   "execution_count": null,
   "metadata": {},
   "outputs": [],
   "source": [
    "# let the other user log-in\n",
    "\n",
    "token1 = Authentication.login(Authentication_login_sharedWithName, Authentication_login_sharedWithPassword);"
   ]
  },
  {
   "cell_type": "code",
   "execution_count": null,
   "metadata": {},
   "outputs": [],
   "source": [
    "# the other user downloads the remote text file (from the shared user volume) into a local string variable\n",
    "\n",
    "string = Files.download(fileService, \n",
    "    paste(Files_RootVolumeName2,Authentication_loginName,Files_UserVolumeName2,Files_NewDirectoryName2,Files_LocalFileName,sep=\"/\"), \n",
    "    format=\"txt\");\n",
    "print(string)"
   ]
  },
  {
   "cell_type": "code",
   "execution_count": null,
   "metadata": {},
   "outputs": [],
   "source": [
    "# the original user logs in again\n",
    "\n",
    "token1 = Authentication.login(Authentication_loginName, Authentication_loginPassword);"
   ]
  },
  {
   "cell_type": "code",
   "execution_count": null,
   "metadata": {},
   "outputs": [],
   "source": [
    "# delete folders\n",
    "\n",
    "Files.delete(fileService, \n",
    "    paste(Files_RootVolumeName1,Authentication_loginName,Files_UserVolumeName1,Files_NewDirectoryName1,sep=\"/\"))\n",
    "Files.delete(fileService, \n",
    "    paste(Files_RootVolumeName2,Authentication_loginName,Files_UserVolumeName2,Files_NewDirectoryName2,sep=\"/\"))"
   ]
  },
  {
   "cell_type": "code",
   "execution_count": null,
   "metadata": {},
   "outputs": [],
   "source": [
    "# delete user volumes\n",
    "\n",
    "Files.deleteUserVolume(fileService, \n",
    "    paste(Files_RootVolumeName1, Authentication_loginName, Files_UserVolumeName1,sep=\"/\"))\n",
    "Files.deleteUserVolume(fileService, \n",
    "    paste(Files_RootVolumeName1, Authentication_loginName, Files_UserVolumeName2,sep=\"/\"))"
   ]
  },
  {
   "cell_type": "markdown",
   "metadata": {},
   "source": [
    "# Jobs section:"
   ]
  },
  {
   "cell_type": "code",
   "execution_count": null,
   "metadata": {},
   "outputs": [],
   "source": [
    "Jobs_DockerComputeDomainName = 'Small Jobs Domain'\n",
    "\n",
    "Jobs_FileServiceName = \"FileServiceJHU\"\n",
    "Jobs_RootVolumeName = \"Storage\"\n",
    "Jobs_UserVolumeName = \"JobsTestVolume\"\n",
    "Jobs_DirectoryName = \"JobsTestDirectory\"\n",
    "Jobs_NotebookName = 'TestNotebook.ipynb'\n",
    "Jobs_ShellCommand = 'ls -laht'\n",
    "Jobs_DockerImageName = 'Python + R'\n",
    "\n",
    "Jobs_UserVolumes = list( list(name=Jobs_UserVolumeName, rootVolumeName=Jobs_RootVolumeName, owner=Authentication_loginName, needsWriteAccess=TRUE),\n",
    "                         list(name=\"scratch\", rootVolumeName=\"Temporary\", owner=Authentication_loginName, needsWriteAccess=TRUE) ) \n",
    "Jobs_DataVolumes = list(list(name='SDSS DAS'))\n",
    "Jobs_Parameters =  'param1=1\\nparam2=2\\nparam3=3'\n",
    "Jobs_Alias = 'MyNewJob'\n",
    "\n",
    "Jobs_SqlQuery = \"select 1;\"\n",
    "Jobs_RBBComputeDomainName = 'Manga (long)'\n",
    "Jobs_DatabaseContextName = \"manga\"\n",
    "Jobs_QueryResultsFile = 'myQueryResults'"
   ]
  },
  {
   "cell_type": "code",
   "execution_count": null,
   "metadata": {},
   "outputs": [],
   "source": [
    "# get docker compute domains\n",
    "\n",
    "dockerComputeDomains = Jobs.getDockerComputeDomains();\n",
    "print(dockerComputeDomains)"
   ]
  },
  {
   "cell_type": "code",
   "execution_count": null,
   "metadata": {},
   "outputs": [],
   "source": [
    "# get names of docker compute domains available to the user\n",
    "\n",
    "dockerComputeDomainsNames = Jobs.getDockerComputeDomainsNames()\n",
    "print(dockerComputeDomainsNames)"
   ]
  },
  {
   "cell_type": "code",
   "execution_count": null,
   "metadata": {},
   "outputs": [],
   "source": [
    "# get docker compute domain from name\n",
    "\n",
    "dockerComputeDomain = Jobs.getDockerComputeDomainFromName(Jobs_DockerComputeDomainName)\n",
    "print(dockerComputeDomain)"
   ]
  },
  {
   "cell_type": "code",
   "execution_count": null,
   "metadata": {},
   "outputs": [],
   "source": [
    "# uploading Jupyter notebook to remote directory\n",
    "\n",
    "fileService = Files.getFileServiceFromName(Jobs_FileServiceName);\n",
    "Files.createUserVolume(fileService,paste(Jobs_RootVolumeName,Authentication_loginName,Jobs_UserVolumeName,sep=\"/\"))\n",
    "Files.upload(fileService, \n",
    "    paste(Jobs_RootVolumeName,Authentication_loginName,Jobs_UserVolumeName,Jobs_DirectoryName,Jobs_NotebookName,sep=\"/\"), \n",
    "             localFilePath=Jobs_NotebookName);"
   ]
  },
  {
   "cell_type": "code",
   "execution_count": null,
   "metadata": {},
   "outputs": [],
   "source": [
    "# submit a Jupyter notebook job.\n",
    "\n",
    "jobId = Jobs.submitNotebookJob(notebookPath=paste('/home/idies/workspace',Jobs_RootVolumeName,Authentication_loginName,Jobs_UserVolumeName,Jobs_DirectoryName,Jobs_NotebookName,sep=\"/\"),\n",
    "                             dockerComputeDomain=dockerComputeDomain,\n",
    "                             dockerImageName=Jobs_DockerImageName,\n",
    "                             userVolumes=Jobs_UserVolumes,\n",
    "                             dataVolumes=Jobs_DataVolumes,\n",
    "                             resultsFolderPath=\"\",\n",
    "                             parameters=Jobs_Parameters,\n",
    "                    jobAlias=Jobs_Alias)\n",
    "\n",
    "print(jobId)"
   ]
  },
  {
   "cell_type": "code",
   "execution_count": null,
   "metadata": {},
   "outputs": [],
   "source": [
    "# get job status\n",
    "\n",
    "jobStatus = Jobs.getJobStatus(jobId)\n",
    "print(jobStatus)"
   ]
  },
  {
   "cell_type": "code",
   "execution_count": null,
   "metadata": {},
   "outputs": [],
   "source": [
    "# get job description\n",
    "\n",
    "job = Jobs.getJobDescription(jobId)\n",
    "print(job)"
   ]
  },
  {
   "cell_type": "code",
   "execution_count": null,
   "metadata": {},
   "outputs": [],
   "source": [
    "# wait until job is finished and get job status\n",
    "\n",
    "jobId = Jobs.submitNotebookJob(notebookPath=paste('/home/idies/workspace',Jobs_RootVolumeName,Authentication_loginName,Jobs_UserVolumeName,Jobs_DirectoryName,Jobs_NotebookName,sep=\"/\"),\n",
    "                             dockerComputeDomain=dockerComputeDomain,\n",
    "                             dockerImageName=Jobs_DockerImageName,\n",
    "                             userVolumes=Jobs_UserVolumes,\n",
    "                             dataVolumes=Jobs_DataVolumes,\n",
    "                             resultsFolderPath=\"\",\n",
    "                             parameters=Jobs_Parameters,\n",
    "                             jobAlias=Jobs_Alias)\n",
    "\n",
    "jobStatus = Jobs.waitForJob(jobId)\n",
    "print(jobStatus)"
   ]
  },
  {
   "cell_type": "code",
   "execution_count": null,
   "metadata": {},
   "outputs": [],
   "source": [
    "# cancel job\n",
    "\n",
    "jobId = Jobs.submitNotebookJob(notebookPath=paste('/home/idies/workspace',Jobs_RootVolumeName,Authentication_loginName,Jobs_UserVolumeName,Jobs_DirectoryName,Jobs_NotebookName,sep=\"/\"),\n",
    "                             dockerComputeDomain=dockerComputeDomain,\n",
    "                             dockerImageName=Jobs_DockerImageName,\n",
    "                             userVolumes=Jobs_UserVolumes,\n",
    "                             dataVolumes=Jobs_DataVolumes,\n",
    "                             resultsFolderPath=\"\",\n",
    "                             parameters=Jobs_Parameters,\n",
    "                    jobAlias=Jobs_Alias)\n",
    "\n",
    "Jobs.cancelJob(jobId)"
   ]
  },
  {
   "cell_type": "code",
   "execution_count": null,
   "metadata": {},
   "outputs": [],
   "source": [
    "Files.deleteUserVolume(fileService, \n",
    "                       paste(Jobs_RootVolumeName,Authentication_loginName,Jobs_UserVolumeName,sep=\"/\"), \n",
    "                       quiet=TRUE)"
   ]
  },
  {
   "cell_type": "code",
   "execution_count": null,
   "metadata": {},
   "outputs": [],
   "source": [
    "# submit shell command job\n",
    "\n",
    "jobId = Jobs.submitShellCommandJob(shellCommand=Jobs_ShellCommand,\n",
    "                                   dockerComputeDomain=dockerComputeDomain,\n",
    "                                   dockerImageName=Jobs_DockerImageName,\n",
    "                                   userVolumes=Jobs_UserVolumes,\n",
    "                                   dataVolumes=Jobs_DataVolumes,\n",
    "                                   resultsFolderPath=\"\",\n",
    "                                   jobAlias=Jobs_Alias)"
   ]
  },
  {
   "cell_type": "code",
   "execution_count": null,
   "metadata": {},
   "outputs": [],
   "source": [
    "# get relational database (RDB) compute domains\n",
    "\n",
    "rdbComputeDomains = Jobs.getRDBComputeDomains();\n",
    "print(rdbComputeDomains)"
   ]
  },
  {
   "cell_type": "code",
   "execution_count": null,
   "metadata": {},
   "outputs": [],
   "source": [
    "# get names of relational database (RDB) compute domains\n",
    "\n",
    "rdbComputeDomainsNames = Jobs.getRDBComputeDomainsNames()\n",
    "print(rdbComputeDomainsNames)"
   ]
  },
  {
   "cell_type": "code",
   "execution_count": null,
   "metadata": {},
   "outputs": [],
   "source": [
    "# get relational database (RDB) compute domain from name\n",
    "\n",
    "rdbComputeDomain = Jobs.getRDBComputeDomainFromName(Jobs_RBBComputeDomainName);\n",
    "print(rdbComputeDomain)"
   ]
  },
  {
   "cell_type": "code",
   "execution_count": null,
   "metadata": {},
   "outputs": [],
   "source": [
    "# submit RDB (relatinal database) query job\n",
    "\n",
    "jobId = Jobs.submitRDBQueryJob(sqlQuery=Jobs_SqlQuery, \n",
    "                               rdbComputeDomain=rdbComputeDomain, \n",
    "                               databaseContextName = Jobs_DatabaseContextName, \n",
    "                               resultsName = Jobs_QueryResultsFile, \n",
    "                               resultsFolderPath = \"\",\n",
    "                               jobAlias = Jobs_Alias)\n",
    "\n",
    "print(jobId)"
   ]
  },
  {
   "cell_type": "code",
   "execution_count": null,
   "metadata": {},
   "outputs": [],
   "source": [
    "# get job description\n",
    "\n",
    "job = Jobs.getJobDescription(jobId)\n",
    "print(job)"
   ]
  },
  {
   "cell_type": "code",
   "execution_count": null,
   "metadata": {},
   "outputs": [],
   "source": [
    "# get list of jobs\n",
    "jobs_list = Jobs.getJobsList(top=2)\n",
    "jobs_list\n",
    "\n"
   ]
  },
  {
   "cell_type": "code",
   "execution_count": null,
   "metadata": {},
   "outputs": [],
   "source": [
    "# get list of docker jobs\n",
    "jobs_list = Jobs.getDockerJobsListQuick(top=2)\n",
    "jobs_list"
   ]
  }
 ],
 "metadata": {
  "kernelspec": {
   "display_name": "R",
   "language": "R",
   "name": "ir"
  },
  "language_info": {
   "codemirror_mode": "r",
   "file_extension": ".r",
   "mimetype": "text/x-r-source",
   "name": "R",
   "pygments_lexer": "r",
   "version": "3.5.0"
  }
 },
 "nbformat": 4,
 "nbformat_minor": 2
}
